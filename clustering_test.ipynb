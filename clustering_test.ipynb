{
 "metadata": {
  "language_info": {
   "codemirror_mode": {
    "name": "ipython",
    "version": 3
   },
   "file_extension": ".py",
   "mimetype": "text/x-python",
   "name": "python",
   "nbconvert_exporter": "python",
   "pygments_lexer": "ipython3",
   "version": "3.6.9-final"
  },
  "orig_nbformat": 2,
  "kernelspec": {
   "name": "python36964bitenvvenvde88aacb140049cab59668ffa038508f",
   "display_name": "Python 3.6.9 64-bit ('env': venv)"
  }
 },
 "nbformat": 4,
 "nbformat_minor": 2,
 "cells": [
  {
   "cell_type": "code",
   "execution_count": 15,
   "metadata": {},
   "outputs": [],
   "source": [
    "import numpy\n",
    "import json"
   ]
  },
  {
   "cell_type": "code",
   "execution_count": 16,
   "metadata": {
    "tags": []
   },
   "outputs": [],
   "source": [
    "from src.processing.vectorize import Vectorize"
   ]
  },
  {
   "cell_type": "code",
   "execution_count": 17,
   "metadata": {
    "tags": []
   },
   "outputs": [
    {
     "output_type": "stream",
     "name": "stdout",
     "text": "1529\n1529\n"
    }
   ],
   "source": [
    "fname = \"data/hindu_articles.json\"\n",
    "with open(fname,\"r\") as f:\n",
    "    hindu_articles = json.load(f)\n",
    "\n",
    "    article_body = [hindu_articles[i][\"content\"] for i in range(len(hindu_articles))]\n",
    "    article_headline = [hindu_articles[i][\"headline\"] for i in range(len(hindu_articles))]\n",
    "\n",
    "fname = \"data/hindustan_articles.json\"\n",
    "with open(fname,\"r\") as f:\n",
    "    hindustan_articles = json.load(f)\n",
    "\n",
    "    article_body += [hindustan_articles[i][\"content\"] for i in range(len(hindustan_articles))]\n",
    "    article_headline += [hindustan_articles[i][\"headline\"] for i in range(len(hindustan_articles))]\n",
    "    \n",
    "    print(len(article_body))\n",
    "\n",
    "v = Vectorize.bert_encoding(article_body)\n",
    "\n",
    "print(len(v))\n",
    "\n",
    "    "
   ]
  },
  {
   "cell_type": "code",
   "execution_count": 18,
   "metadata": {},
   "outputs": [],
   "source": [
    "from src.modelling.hierarchical import cluster"
   ]
  },
  {
   "cell_type": "code",
   "execution_count": 19,
   "metadata": {},
   "outputs": [],
   "source": [
    "h_cno = cluster(v,len(v)//2)"
   ]
  },
  {
   "cell_type": "code",
   "execution_count": 25,
   "metadata": {},
   "outputs": [],
   "source": [
    "h_zip = zip(list(h_cno),article_headline)\n",
    "sorted_h_zip = sorted(h_zip)"
   ]
  },
  {
   "cell_type": "code",
   "execution_count": 26,
   "metadata": {},
   "outputs": [],
   "source": [
    "import csv"
   ]
  },
  {
   "cell_type": "code",
   "execution_count": null,
   "metadata": {
    "tags": []
   },
   "outputs": [],
   "source": [
    "with open('sorted_h_zip.csv', 'w') as f:\n",
    "    write = csv.writer(f)\n",
    "    write.writerows(list(sorted_h_zip))"
   ]
  },
  {
   "cell_type": "code",
   "execution_count": 20,
   "metadata": {},
   "outputs": [],
   "source": [
    "from src.modelling.kmeans import cluster"
   ]
  },
  {
   "cell_type": "code",
   "execution_count": 21,
   "metadata": {},
   "outputs": [],
   "source": [
    "km_cno = cluster(v,len(v)//2)"
   ]
  },
  {
   "cell_type": "code",
   "execution_count": 28,
   "metadata": {},
   "outputs": [],
   "source": [
    "km_zip = zip(list(km_cno),article_headline)\n",
    "sorted_km_zip = sorted(km_zip)"
   ]
  },
  {
   "cell_type": "code",
   "execution_count": 29,
   "metadata": {},
   "outputs": [],
   "source": [
    "with open('sorted_km_zip.csv', 'w') as f:\n",
    "    write = csv.writer(f)\n",
    "    write.writerows(list(sorted_km_zip))"
   ]
  },
  {
   "cell_type": "code",
   "execution_count": null,
   "metadata": {},
   "outputs": [],
   "source": []
  }
 ]
}