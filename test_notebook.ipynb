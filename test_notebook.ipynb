{
 "metadata": {
  "language_info": {
   "codemirror_mode": {
    "name": "ipython",
    "version": 3
   },
   "file_extension": ".py",
   "mimetype": "text/x-python",
   "name": "python",
   "nbconvert_exporter": "python",
   "pygments_lexer": "ipython3",
   "version": "3.6.9-final"
  },
  "orig_nbformat": 2,
  "kernelspec": {
   "name": "python36964bitenvvenvde88aacb140049cab59668ffa038508f",
   "display_name": "Python 3.6.9 64-bit ('env': venv)"
  }
 },
 "nbformat": 4,
 "nbformat_minor": 2,
 "cells": [
  {
   "cell_type": "code",
   "execution_count": 1,
   "metadata": {},
   "outputs": [],
   "source": [
    "from src.preparation.get_json_data import jsons_to_dfs"
   ]
  },
  {
   "cell_type": "code",
   "execution_count": 2,
   "metadata": {},
   "outputs": [],
   "source": [
    "article_df = jsons_to_dfs([\"data/toi_articles.json\", \"data/hindu_articles.json\", \"data/ie_articles.json\", \"data/hindustan_articles.json\" ])"
   ]
  },
  {
   "cell_type": "code",
   "execution_count": 3,
   "metadata": {
    "tags": []
   },
   "outputs": [
    {
     "output_type": "stream",
     "name": "stderr",
     "text": "Using TensorFlow backend.\n"
    }
   ],
   "source": [
    "from src.preprocessing.embedding import vectorize_text_embedding"
   ]
  },
  {
   "cell_type": "code",
   "execution_count": 4,
   "metadata": {
    "tags": []
   },
   "outputs": [
    {
     "output_type": "stream",
     "name": "stdout",
     "text": "X.shape (539, 50, 100)\n"
    }
   ],
   "source": [
    "glove_embed = vectorize_text_embedding(article_df)"
   ]
  },
  {
   "cell_type": "code",
   "execution_count": 5,
   "metadata": {},
   "outputs": [
    {
     "output_type": "execute_result",
     "data": {
      "text/plain": "array([[0, 0, 0, ..., 0, 0, 0],\n       [0, 0, 0, ..., 0, 0, 0],\n       [0, 0, 0, ..., 0, 0, 0],\n       ...,\n       [0, 0, 0, ..., 0, 0, 0],\n       [0, 0, 0, ..., 0, 0, 0],\n       [0, 0, 0, ..., 0, 0, 0]], dtype=int32)"
     },
     "metadata": {},
     "execution_count": 5
    }
   ],
   "source": [
    "glove_embed[3]"
   ]
  },
  {
   "cell_type": "code",
   "execution_count": 6,
   "metadata": {},
   "outputs": [],
   "source": [
    "from src.preprocessing.vectorize_tf_idf import vectorize_texts_tf_idf"
   ]
  },
  {
   "cell_type": "code",
   "execution_count": 7,
   "metadata": {
    "tags": []
   },
   "outputs": [
    {
     "output_type": "stream",
     "name": "stdout",
     "text": "n_samples: 539, n_features: 20000\n"
    }
   ],
   "source": [
    "tf_idf_vector = vectorize_texts_tf_idf(article_df.text,(1,3))"
   ]
  },
  {
   "cell_type": "code",
   "execution_count": 8,
   "metadata": {},
   "outputs": [],
   "source": [
    "from src.modelling.grouping.tree import init_tree"
   ]
  },
  {
   "cell_type": "code",
   "execution_count": 9,
   "metadata": {},
   "outputs": [],
   "source": [
    "tree_obj = init_tree(tf_idf_vector,\"kd\")"
   ]
  },
  {
   "cell_type": "code",
   "execution_count": 10,
   "metadata": {},
   "outputs": [],
   "source": [
    "from src.modelling.grouping.tree_grouping import group_news"
   ]
  },
  {
   "cell_type": "code",
   "execution_count": 11,
   "metadata": {
    "tags": []
   },
   "outputs": [],
   "source": [
    "output = group_news(article_df, tree_obj, tf_idf_vector)"
   ]
  },
  {
   "cell_type": "code",
   "execution_count": 19,
   "metadata": {},
   "outputs": [
    {
     "output_type": "error",
     "ename": "IndexError",
     "evalue": "list index out of range",
     "traceback": [
      "\u001b[0;31m---------------------------------------------------------------------------\u001b[0m",
      "\u001b[0;31mIndexError\u001b[0m                                Traceback (most recent call last)",
      "\u001b[0;32m<ipython-input-19-2ca17b7b7c08>\u001b[0m in \u001b[0;36m<module>\u001b[0;34m\u001b[0m\n\u001b[0;32m----> 1\u001b[0;31m \u001b[0moutput\u001b[0m\u001b[0;34m[\u001b[0m\u001b[0;36m1\u001b[0m\u001b[0;34m]\u001b[0m\u001b[0;34m\u001b[0m\u001b[0;34m\u001b[0m\u001b[0m\n\u001b[0m",
      "\u001b[0;31mIndexError\u001b[0m: list index out of range"
     ]
    }
   ],
   "source": [
    "output[1]"
   ]
  },
  {
   "cell_type": "markdown",
   "metadata": {},
   "source": [
    "#stop running here"
   ]
  },
  {
   "cell_type": "code",
   "execution_count": null,
   "metadata": {},
   "outputs": [],
   "source": [
    "import numpy as np"
   ]
  },
  {
   "cell_type": "code",
   "execution_count": null,
   "metadata": {},
   "outputs": [],
   "source": [
    "len(np.array([glove_embed[0]]))"
   ]
  },
  {
   "cell_type": "code",
   "execution_count": null,
   "metadata": {},
   "outputs": [],
   "source": [
    "from sklearn.cluster import DBSCAN"
   ]
  },
  {
   "cell_type": "code",
   "execution_count": 20,
   "metadata": {},
   "outputs": [],
   "source": [
    "from src.modelling.hierarchical import cluster"
   ]
  },
  {
   "cell_type": "code",
   "execution_count": 21,
   "metadata": {},
   "outputs": [],
   "source": [
    "h_cno = cluster(tf_idf_vector,len(tf_idf_vector)//4)"
   ]
  },
  {
   "cell_type": "code",
   "execution_count": 22,
   "metadata": {},
   "outputs": [
    {
     "output_type": "execute_result",
     "data": {
      "text/plain": "array([ 48, 127,   4, 106,  95, 105, 105,  83, 111,  48,  59,  30,  33,\n       111,  78, 110, 124,   6,   9,   1,  55,  22, 125,  93,   4,  93,\n        92,  92,   3,  48,  14,  42,   0,   6,  39,  93,  39,  13,  71,\n        88,   1,  80,  54,   1,  47,  13,  71,  11,  98, 121,  13,  42,\n        14,  33,  33,  91, 122,  96,   4,   5,  43,  43,  43, 103,  90,\n        81,   4,  57,  91,  86,  35,  35,  16,   2,  96,  29,  79,  42,\n        37,  13,  16,  55,   1,  25,  37,  37,  32,  10,  17,   5,  72,\n        54,   5,  69,  72,  67,   5,  82,  32,  47,  66,   2,  56, 120,\n       120, 125,  74,   0,  17,   5,   0,   3, 132,  53,   0,  47,  74,\n        41,  70,  17,  29,  43,   5,   5, 127,  83,  40,  89, 122, 108,\n        29,  40,  34, 114,   6, 109,  99, 127,  67,  94, 111,  85, 109,\n        36,  73,  52,  18, 119,   6,  95,  29,   0, 118,  23,  23,  85,\n        85, 115,  28,  28,  28, 117, 117,  46,  46, 112, 112, 102,  46,\n       102,  58,  58,  58,  46,  46,  46,   0,  24,  58,  64,  61,  64,\n        44,  61, 129,  18,  64,  28, 109,   7,  52, 130,  54,  17, 113,\n        67,  49, 115, 119, 123,  20,   8,  29,   3,   0,  66,  33,   7,\n       101,  69,  70,   3,   3,  21,  67,   2,  50,   7, 100,  50,  50,\n         7,  17,  62,  21,  10,  93,   7,   1,  70,  23,  76,  13,  70,\n        32, 125,   7,  86,  23,  41,   5,  20,  14,  36,  75,  98,  35,\n         5,  42,  33,  12,  24,  43,  93,  33,  14,  22,  43,  75,   0,\n        31,   0,  29,   5,  70,   4,  22,  90,  99,  23, 103,  57,  45,\n         6,  29,  45,   3,  17,  31,  27,  10, 113,  56,  38,  47,  18,\n       130,   2, 131,   8, 131,  16, 120,   9,  55,   8,  55,  23,  67,\n        86,   8,  73,  11,  22,  32, 132, 104, 101,   8,   0,   8,  88,\n         9,  79,  65,  38, 124,  30,  17,   1,  39, 133,  49,  11,  25,\n        35,  41,  39,   9,  37,  68,  31,  98,  45,   9,  63,   6,  27,\n        60,  61,  61,  27,  28,  52,  26,  77,  34,  11, 104,   9,  26,\n       129,  49,  60,  65,   2,  60,  58,  60,  61, 114,   1,  44,  23,\n        30, 100,  11, 100,  29,  22,  36,  22,  56, 100,  78,  49,  19,\n        22,  26,  68,  29,  12, 110, 116, 128,  29,  26,  36,  15, 128,\n        39,  38, 107,  15,  15,   9,  15,  53,  29,  23,  97,  30,  15,\n         6,  30, 116,  18,  15,  21,  44,  30, 123,  58, 116,  45,   4,\n         0,  84,  97,  15,  97, 125,   0, 103,  44,  47,  18,  22,  47,\n        81, 126,  54,  84,  82,  17,  24,  57,  25,  27,   3,   3,  98,\n        14,  62,  99,  98,  48,  33, 106,  59,  63,  54,   8, 128, 126,\n        14,  59,  20,  14,  92,  22,   3,  92,  67, 125,  87,  67,  62,\n        17,  14,  24,  51,  71, 121, 133,  19, 110,  98,   0,  51,  63,\n         6,  41,  60,  76,   9,  87, 110,  80, 122,  82,  35,  52, 104,\n        12, 122, 118,  25,  10,  12, 104,  19, 108,  77,  34,  47,  94,\n        36, 115,  31, 101, 101,  89,  31,  14,   4,  22,   4,  91,  59,\n        90,   8,  43,  37, 107,  14,  40,  39,  88,  57,   4,  36,  13,\n        68,   4, 113,  87,  16,   9])"
     },
     "metadata": {},
     "execution_count": 22
    }
   ],
   "source": [
    "h_cno"
   ]
  },
  {
   "cell_type": "code",
   "execution_count": 23,
   "metadata": {},
   "outputs": [],
   "source": [
    "article_df[\"cluster\"] = h_cno"
   ]
  },
  {
   "cell_type": "code",
   "execution_count": 24,
   "metadata": {},
   "outputs": [
    {
     "output_type": "execute_result",
     "data": {
      "text/plain": "             source                                              title  \\\n0               toi  India adds 3 lakh+ Covid cases for second day;...   \n1               toi  Covid-19: Canada bans flights from India, Paki...   \n2               toi  With O2 running out, Delhi-NCR hosps asking pa...   \n3               toi  ‘National health emergency’: SC asks Centre fo...   \n4               toi  China says ready to help but India looks elsew...   \n..              ...                                                ...   \n534  HindustanTimes  Supply poor, private hospitals still face oxyg...   \n535  HindustanTimes  Maharashtra: Decide on jail transfer pleas in ...   \n536  HindustanTimes  Taking steps to give drugs, oxygen: Mumbai civ...   \n537  HindustanTimes  Prayagraj admn fixes charges for wood used in ...   \n538  HindustanTimes  Long queues outside civic-run vaccination cent...   \n\n                                                  link       cat  \\\n0    https://timesofindia.indiatimes.com/india/covi...     india   \n1    https://timesofindia.indiatimes.com/business/i...  business   \n2    https://timesofindia.indiatimes.com/india/covi...     india   \n3    https://timesofindia.indiatimes.com/india/nati...     india   \n4    https://timesofindia.indiatimes.com/india/chin...     india   \n..                                                 ...       ...   \n534  https://www.hindustantimes.com/cities/noida-ne...     noida   \n535  https://www.hindustantimes.com/cities/mumbai-n...    mumbai   \n536  https://www.hindustantimes.com/cities/mumbai-n...    mumbai   \n537  https://www.hindustantimes.com/cities/others/p...    others   \n538  https://www.hindustantimes.com/cities/mumbai-n...    mumbai   \n\n                                                  text  \\\n0    NEW DELHI: On Thursday, India added over 3.3 l...   \n1    TORONTO: Canada on Thursday said it would ban ...   \n2    NEW DELHI: Hospitals in Delhi-NCR had to issue...   \n3    NEW DELHI: A day after Indiaâs daily new Cov...   \n4    NEW DELHI: With India reeling under the Covid-...   \n..                                                 ...   \n534   Many private hospitals in Ghaziabad and Noida...   \n535  The Bombay high court (HC) on Thursday directe...   \n536  On a day when the Supreme Court (SC) on Thursd...   \n537  People now will not have to pay extra money fo...   \n538  Around 10 days before the Covid-19 vaccination...   \n\n                                                  full  \\\n0    India adds 3 lakh+ Covid cases for second day;...   \n1    Covid-19: Canada bans flights from India, Paki...   \n2    With O2 running out, Delhi-NCR hosps asking pa...   \n3    ‘National health emergency’: SC asks Centre fo...   \n4    China says ready to help but India looks elsew...   \n..                                                 ...   \n534  Supply poor, private hospitals still face oxyg...   \n535  Maharashtra: Decide on jail transfer pleas in ...   \n536  Taking steps to give drugs, oxygen: Mumbai civ...   \n537  Prayagraj admn fixes charges for wood used in ...   \n538  Long queues outside civic-run vaccination cent...   \n\n                                               full_50  cluster  \n0    India adds 3 lakh+ Covid cases for second day;...       48  \n1    Covid-19: Canada bans flights from India, Paki...      127  \n2    With O2 running out, Delhi-NCR hosps asking pa...        4  \n3    ‘National health emergency’: SC asks Centre fo...      106  \n4    China says ready to help but India looks elsew...       95  \n..                                                 ...      ...  \n534  Supply poor, private hospitals still face oxyg...        4  \n535  Maharashtra: Decide on jail transfer pleas in ...      113  \n536  Taking steps to give drugs, oxygen: Mumbai civ...       87  \n537  Prayagraj admn fixes charges for wood used in ...       16  \n538  Long queues outside civic-run vaccination cent...        9  \n\n[539 rows x 8 columns]",
      "text/html": "<div>\n<style scoped>\n    .dataframe tbody tr th:only-of-type {\n        vertical-align: middle;\n    }\n\n    .dataframe tbody tr th {\n        vertical-align: top;\n    }\n\n    .dataframe thead th {\n        text-align: right;\n    }\n</style>\n<table border=\"1\" class=\"dataframe\">\n  <thead>\n    <tr style=\"text-align: right;\">\n      <th></th>\n      <th>source</th>\n      <th>title</th>\n      <th>link</th>\n      <th>cat</th>\n      <th>text</th>\n      <th>full</th>\n      <th>full_50</th>\n      <th>cluster</th>\n    </tr>\n  </thead>\n  <tbody>\n    <tr>\n      <th>0</th>\n      <td>toi</td>\n      <td>India adds 3 lakh+ Covid cases for second day;...</td>\n      <td>https://timesofindia.indiatimes.com/india/covi...</td>\n      <td>india</td>\n      <td>NEW DELHI: On Thursday, India added over 3.3 l...</td>\n      <td>India adds 3 lakh+ Covid cases for second day;...</td>\n      <td>India adds 3 lakh+ Covid cases for second day;...</td>\n      <td>48</td>\n    </tr>\n    <tr>\n      <th>1</th>\n      <td>toi</td>\n      <td>Covid-19: Canada bans flights from India, Paki...</td>\n      <td>https://timesofindia.indiatimes.com/business/i...</td>\n      <td>business</td>\n      <td>TORONTO: Canada on Thursday said it would ban ...</td>\n      <td>Covid-19: Canada bans flights from India, Paki...</td>\n      <td>Covid-19: Canada bans flights from India, Paki...</td>\n      <td>127</td>\n    </tr>\n    <tr>\n      <th>2</th>\n      <td>toi</td>\n      <td>With O2 running out, Delhi-NCR hosps asking pa...</td>\n      <td>https://timesofindia.indiatimes.com/india/covi...</td>\n      <td>india</td>\n      <td>NEW DELHI: Hospitals in Delhi-NCR had to issue...</td>\n      <td>With O2 running out, Delhi-NCR hosps asking pa...</td>\n      <td>With O2 running out, Delhi-NCR hosps asking pa...</td>\n      <td>4</td>\n    </tr>\n    <tr>\n      <th>3</th>\n      <td>toi</td>\n      <td>‘National health emergency’: SC asks Centre fo...</td>\n      <td>https://timesofindia.indiatimes.com/india/nati...</td>\n      <td>india</td>\n      <td>NEW DELHI: A day after Indiaâs daily new Cov...</td>\n      <td>‘National health emergency’: SC asks Centre fo...</td>\n      <td>‘National health emergency’: SC asks Centre fo...</td>\n      <td>106</td>\n    </tr>\n    <tr>\n      <th>4</th>\n      <td>toi</td>\n      <td>China says ready to help but India looks elsew...</td>\n      <td>https://timesofindia.indiatimes.com/india/chin...</td>\n      <td>india</td>\n      <td>NEW DELHI: With India reeling under the Covid-...</td>\n      <td>China says ready to help but India looks elsew...</td>\n      <td>China says ready to help but India looks elsew...</td>\n      <td>95</td>\n    </tr>\n    <tr>\n      <th>...</th>\n      <td>...</td>\n      <td>...</td>\n      <td>...</td>\n      <td>...</td>\n      <td>...</td>\n      <td>...</td>\n      <td>...</td>\n      <td>...</td>\n    </tr>\n    <tr>\n      <th>534</th>\n      <td>HindustanTimes</td>\n      <td>Supply poor, private hospitals still face oxyg...</td>\n      <td>https://www.hindustantimes.com/cities/noida-ne...</td>\n      <td>noida</td>\n      <td>Many private hospitals in Ghaziabad and Noida...</td>\n      <td>Supply poor, private hospitals still face oxyg...</td>\n      <td>Supply poor, private hospitals still face oxyg...</td>\n      <td>4</td>\n    </tr>\n    <tr>\n      <th>535</th>\n      <td>HindustanTimes</td>\n      <td>Maharashtra: Decide on jail transfer pleas in ...</td>\n      <td>https://www.hindustantimes.com/cities/mumbai-n...</td>\n      <td>mumbai</td>\n      <td>The Bombay high court (HC) on Thursday directe...</td>\n      <td>Maharashtra: Decide on jail transfer pleas in ...</td>\n      <td>Maharashtra: Decide on jail transfer pleas in ...</td>\n      <td>113</td>\n    </tr>\n    <tr>\n      <th>536</th>\n      <td>HindustanTimes</td>\n      <td>Taking steps to give drugs, oxygen: Mumbai civ...</td>\n      <td>https://www.hindustantimes.com/cities/mumbai-n...</td>\n      <td>mumbai</td>\n      <td>On a day when the Supreme Court (SC) on Thursd...</td>\n      <td>Taking steps to give drugs, oxygen: Mumbai civ...</td>\n      <td>Taking steps to give drugs, oxygen: Mumbai civ...</td>\n      <td>87</td>\n    </tr>\n    <tr>\n      <th>537</th>\n      <td>HindustanTimes</td>\n      <td>Prayagraj admn fixes charges for wood used in ...</td>\n      <td>https://www.hindustantimes.com/cities/others/p...</td>\n      <td>others</td>\n      <td>People now will not have to pay extra money fo...</td>\n      <td>Prayagraj admn fixes charges for wood used in ...</td>\n      <td>Prayagraj admn fixes charges for wood used in ...</td>\n      <td>16</td>\n    </tr>\n    <tr>\n      <th>538</th>\n      <td>HindustanTimes</td>\n      <td>Long queues outside civic-run vaccination cent...</td>\n      <td>https://www.hindustantimes.com/cities/mumbai-n...</td>\n      <td>mumbai</td>\n      <td>Around 10 days before the Covid-19 vaccination...</td>\n      <td>Long queues outside civic-run vaccination cent...</td>\n      <td>Long queues outside civic-run vaccination cent...</td>\n      <td>9</td>\n    </tr>\n  </tbody>\n</table>\n<p>539 rows × 8 columns</p>\n</div>"
     },
     "metadata": {},
     "execution_count": 24
    }
   ],
   "source": [
    "article_df"
   ]
  },
  {
   "cell_type": "code",
   "execution_count": 25,
   "metadata": {},
   "outputs": [],
   "source": [
    "article_df.sort_values(by=['cluster'], inplace=True)"
   ]
  },
  {
   "cell_type": "code",
   "execution_count": null,
   "metadata": {},
   "outputs": [],
   "source": [
    "article_df"
   ]
  },
  {
   "cell_type": "code",
   "execution_count": null,
   "metadata": {},
   "outputs": [],
   "source": [
    "import pandas as pd"
   ]
  },
  {
   "cell_type": "code",
   "execution_count": null,
   "metadata": {},
   "outputs": [],
   "source": [
    "df_out = pd.DataFrame()"
   ]
  },
  {
   "cell_type": "code",
   "execution_count": 26,
   "metadata": {},
   "outputs": [],
   "source": [
    "df_out = article_df[[\"title\",\"cluster\"]].copy()"
   ]
  },
  {
   "cell_type": "code",
   "execution_count": 27,
   "metadata": {},
   "outputs": [],
   "source": [
    "df_out.to_csv(\"test_out.csv\")"
   ]
  },
  {
   "cell_type": "code",
   "execution_count": null,
   "metadata": {},
   "outputs": [],
   "source": [
    "df_out"
   ]
  },
  {
   "cell_type": "code",
   "execution_count": 35,
   "metadata": {},
   "outputs": [
    {
     "output_type": "execute_result",
     "data": {
      "text/plain": "source                                        HindustanTimes\ntitle      Vaccination for 18+: Punjab to ensure free jab...\nlink       https://www.hindustantimes.com/cities/chandiga...\ncat                                               chandigarh\ntext       Chief minister Captain Amarinder Singh on Thur...\nfull       Vaccination for 18+: Punjab to ensure free jab...\nfull_50    Vaccination for 18+: Punjab to ensure free jab...\ncluster                                                  133\nName: 474, dtype: object"
     },
     "metadata": {},
     "execution_count": 35
    }
   ],
   "source": [
    "article_df.loc[474]"
   ]
  },
  {
   "cell_type": "code",
   "execution_count": null,
   "metadata": {},
   "outputs": [],
   "source": []
  }
 ]
}